{
 "cells": [
  {
   "cell_type": "code",
   "execution_count": 46,
   "metadata": {},
   "outputs": [],
   "source": [
    "#import libraries\n",
    "import requests\n",
    "import csv\n",
    "from bs4 import BeautifulSoup\n"
   ]
  },
  {
   "cell_type": "code",
   "execution_count": 48,
   "metadata": {},
   "outputs": [
    {
     "name": "stdout",
     "output_type": "stream",
     "text": [
      "Latest News\n",
      "High alert in Delhi, cops look for 2 suspected Jaish terrorists\n",
      "‘What’s going on’: Top Court bristles at reports on CBI officer’s petition\n",
      "Snags on Delhi Metro’s Blue Line leaves stranded passengers fuming\n",
      "Senior Air India pilot who failed alcohol test back as executive director\n",
      "Sorry, says Twitter after CEO poses with ‘smash Brahminical patriarchy’ pic\n",
      "<img src=\"https://www.hindustantimes.com/rf/image_size_300x200/HT/p2/2018/11/20/Pictures/pti11-20-2018-000215b_9d50920c-ecd3-11e8-86fe-bb1c4000c468.jpg\"/>\n",
      "At Bihar shelter home, doctor drugged girls, woman ‘taught’ minors sex: CBI\n",
      "<img src=\"https://www.hindustantimes.com/rf/image_size_300x200/HT/p2/2018/11/20/Pictures/switzerland-wto-trade_daf424ae-ece5-11e8-86fe-bb1c4000c468.jpg\"/>\n"
     ]
    }
   ],
   "source": [
    "# Collect Headings of News URLs\n",
    "page = requests.get('https://www.hindustantimes.com/')\n",
    "\n",
    "# Create a BeautifulSoup object\n",
    "soup = BeautifulSoup(page.text, 'html.parser')\n",
    "\n",
    "# Remove bottom links\n",
    "last_links = soup.find(class_='subhead4')\n",
    "last_links.decompose()\n",
    "\n",
    "last_link = soup.find(class_='letest-topphoto')\n",
    "last_link.decompose()\n",
    "\n",
    "last_linkss = soup.find(class_='big-middlenews')\n",
    "last_linkss.decompose()\n",
    "last_linksss = soup.find(class_='subhead4 pt-10')\n",
    "last_linksss.decompose()\n",
    "last_linksss = soup.find(class_='bigstory-mid-h3')\n",
    "last_linksss.decompose()\n",
    "\n",
    "# Create a file to write to, add headers row\n",
    "f = csv.writer(open('heading.csv', 'w'))\n",
    "f.writerow('Name')\n",
    "\n",
    "\n",
    "# Pull all text from the BodyText div\n",
    "heading_list = soup.find(class_='news-area newtop-block mb-5 mt-10')\n",
    "\n",
    "# Pull text from all instances of <a> tag within BodyText div\n",
    "heading_list_items = heading_list.find_all('a')\n",
    "\n",
    "# Create for loop to print out all artists' names\n",
    "#for heading_name in heading_list_items:\n",
    "#    print(heading_name.prettify())\n",
    "    \n",
    "\n",
    "# Use .contents to pull out the <a> tag’s children\n",
    "for heading_name in heading_list_items:\n",
    "    names = heading_name.contents[0]\n",
    "    print(names)\n",
    "    # Add each artist’s name and associated link to a row\n",
    "    f.writerow(names)\n"
   ]
  },
  {
   "cell_type": "code",
   "execution_count": null,
   "metadata": {},
   "outputs": [],
   "source": []
  },
  {
   "cell_type": "code",
   "execution_count": null,
   "metadata": {},
   "outputs": [],
   "source": []
  },
  {
   "cell_type": "code",
   "execution_count": null,
   "metadata": {},
   "outputs": [],
   "source": []
  }
 ],
 "metadata": {
  "kernelspec": {
   "display_name": "Python 3",
   "language": "python",
   "name": "python3"
  },
  "language_info": {
   "codemirror_mode": {
    "name": "ipython",
    "version": 3
   },
   "file_extension": ".py",
   "mimetype": "text/x-python",
   "name": "python",
   "nbconvert_exporter": "python",
   "pygments_lexer": "ipython3",
   "version": "3.6.6"
  }
 },
 "nbformat": 4,
 "nbformat_minor": 2
}
